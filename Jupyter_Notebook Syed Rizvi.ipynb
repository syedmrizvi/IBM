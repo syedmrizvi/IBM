{
  "metadata": {
    "kernelspec": {
      "name": "python",
      "display_name": "Pyolite",
      "language": "python"
    },
    "language_info": {
      "codemirror_mode": {
        "name": "python",
        "version": 3
      },
      "file_extension": ".py",
      "mimetype": "text/x-python",
      "name": "python",
      "nbconvert_exporter": "python",
      "pygments_lexer": "ipython3",
      "version": "3.8"
    }
  },
  "nbformat_minor": 4,
  "nbformat": 4,
  "cells": [
    {
      "cell_type": "markdown",
      "source": "<center>\n    <img src=\"https://s3-api.us-geo.objectstorage.softlayer.net/cf-courses-data/CognitiveClass/Logos/organization_logo/organization_logo.png\" width=\"300\" alt=\"cognitiveclass.ai logo\"  />\n</center>\n",
      "metadata": {}
    },
    {
      "cell_type": "markdown",
      "source": "#### Add your code below following the instructions given in the course\n",
      "metadata": {}
    },
    {
      "cell_type": "markdown",
      "source": "# My Jupyter Notebook on IBM Watson Studio",
      "metadata": {}
    },
    {
      "cell_type": "markdown",
      "source": "**Syed Mohib Hasan Rizvi**",
      "metadata": {}
    },
    {
      "cell_type": "markdown",
      "source": "Solutions Architect - Supply Chain Planning",
      "metadata": {}
    },
    {
      "cell_type": "markdown",
      "source": "*I am interested in data science because I am passionate about data and enjoy studying the pattern and drawing insights for decision making.*",
      "metadata": {}
    },
    {
      "cell_type": "markdown",
      "source": "### The following code mutiple 5 x 6. The value is printed in a sentence.",
      "metadata": {}
    },
    {
      "cell_type": "code",
      "source": "value = 5*6\nprint(\"The result is\", value)",
      "metadata": {
        "trusted": true
      },
      "execution_count": 5,
      "outputs": [
        {
          "name": "stdout",
          "text": "The result is 30\n",
          "output_type": "stream"
        }
      ]
    },
    {
      "cell_type": "markdown",
      "source": "#### IBM WATSON (hover over to see title text):\n![alt text](https://upload.wikimedia.org/wikipedia/en/0/00/IBM_Watson_Logo_2017.png \"IBM Watson\")\n\nIBM Watson:\n================\n1. Increase conversions with AI\n1. Natural language integration\n1. Useful for B2B or B2C\n----------------\n\n> <font color = \"blue\">\"Operationalize AI and transform how work gets done with our proven capabilities and experience with +100 million users.\"</font>",
      "metadata": {}
    }
  ]
}